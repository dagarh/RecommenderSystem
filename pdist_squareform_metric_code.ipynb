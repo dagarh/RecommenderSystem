{
 "cells": [
  {
   "cell_type": "code",
   "execution_count": 9,
   "metadata": {
    "collapsed": false
   },
   "outputs": [
    {
     "name": "stdout",
     "output_type": "stream",
     "text": [
      "[[ 0.          5.19615242  0.        ]\n",
      " [ 5.19615242  0.          5.19615242]\n",
      " [ 0.          5.19615242  0.        ]]\n",
      "[[ 0.          0.02536815  0.        ]\n",
      " [ 0.02536815  0.          0.02536815]\n",
      " [ 0.          0.02536815  0.        ]]\n",
      "[[  0.00000000e+00   2.22044605e-16   2.22044605e-16]\n",
      " [  2.22044605e-16   0.00000000e+00   2.22044605e-16]\n",
      " [  2.22044605e-16   2.22044605e-16   0.00000000e+00]]\n"
     ]
    }
   ],
   "source": [
    "# Code for Pairwise distances between observations in n-dimensional space.\n",
    "import numpy as np\n",
    "from scipy.spatial.distance import pdist , squareform\n",
    "\n",
    "arrayND = np.array([[1,2,3],[4,5,6],[1,2,3]])\n",
    "\n",
    "# https://docs.scipy.org/doc/scipy/reference/generated/scipy.spatial.distance.pdist.html\n",
    "#scipy.spatial.distance.pdist\n",
    "\n",
    "print(squareform(pdist(arrayND,metric='euclidean')))\n",
    "\n",
    "print(squareform(pdist(arrayND,metric='cosine')))\n",
    "\n",
    "print(squareform(pdist(arrayND,metric='correlation')))"
   ]
  }
 ],
 "metadata": {
  "kernelspec": {
   "display_name": "Python 3",
   "language": "python",
   "name": "python3"
  },
  "language_info": {
   "codemirror_mode": {
    "name": "ipython",
    "version": 3
   },
   "file_extension": ".py",
   "mimetype": "text/x-python",
   "name": "python",
   "nbconvert_exporter": "python",
   "pygments_lexer": "ipython3",
   "version": "3.6.0"
  }
 },
 "nbformat": 4,
 "nbformat_minor": 2
}
