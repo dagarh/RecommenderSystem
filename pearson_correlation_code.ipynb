{
 "cells": [
  {
   "cell_type": "code",
   "execution_count": 5,
   "metadata": {
    "collapsed": false
   },
   "outputs": [
    {
     "name": "stdout",
     "output_type": "stream",
     "text": [
      "2.22044604925e-16\n"
     ]
    }
   ],
   "source": [
    "# Code for finding pearson correlation between two 1-D vector. \n",
    "\n",
    "import numpy as np\n",
    "from scipy.spatial.distance import correlation\n",
    "\n",
    "# https://docs.scipy.org/doc/scipy/reference/generated/scipy.spatial.distance.correlation.html\n",
    "#scipy.spatial.distance.correlation\n",
    "\n",
    "array1 = np.array([0,1,2,3,4])\n",
    "array2 = np.array([0,1,2,3,4])\n",
    "\n",
    "# Input must be only 1-D array\n",
    "# More the correlation , more the similarity is (because its 1-(...)) \n",
    "# Correlation is exactly same as cosine similarity but after doing normalization.\n",
    "corr = correlation(array1,array2)\n",
    "print(corr)"
   ]
  }
 ],
 "metadata": {
  "kernelspec": {
   "display_name": "Python 3",
   "language": "python",
   "name": "python3"
  },
  "language_info": {
   "codemirror_mode": {
    "name": "ipython",
    "version": 3
   },
   "file_extension": ".py",
   "mimetype": "text/x-python",
   "name": "python",
   "nbconvert_exporter": "python",
   "pygments_lexer": "ipython3",
   "version": "3.6.0"
  }
 },
 "nbformat": 4,
 "nbformat_minor": 2
}
