{
 "cells": [
  {
   "cell_type": "code",
   "execution_count": 63,
   "metadata": {
    "collapsed": false
   },
   "outputs": [
    {
     "name": "stdout",
     "output_type": "stream",
     "text": [
      "0.183503419072\n"
     ]
    }
   ],
   "source": [
    "# Code for finding cosine similarity between two 1-D vectors\n",
    "\n",
    "# scipy(scientific python) , numpy(numeric python)\n",
    "import numpy as np\n",
    "from scipy.spatial.distance import cosine\n",
    "\n",
    "array1 = np.array([1,1,1])\n",
    "array2 = np.array([0,1,1])\n",
    "\n",
    "#Inputs must be only 1-D array\n",
    "\n",
    "#https://docs.scipy.org/doc/scipy/reference/generated/scipy.spatial.distance.cosine.html\n",
    "#scipy.spatial.distance.cosine\n",
    "\n",
    "\n",
    "# More the cosine value is , more would be the similarity(because its 1-(...) )\n",
    "print(cosine(array1,array2))"
   ]
  },
  {
   "cell_type": "code",
   "execution_count": null,
   "metadata": {
    "collapsed": true
   },
   "outputs": [],
   "source": []
  }
 ],
 "metadata": {
  "kernelspec": {
   "display_name": "Python 3",
   "language": "python",
   "name": "python3"
  },
  "language_info": {
   "codemirror_mode": {
    "name": "ipython",
    "version": 3
   },
   "file_extension": ".py",
   "mimetype": "text/x-python",
   "name": "python",
   "nbconvert_exporter": "python",
   "pygments_lexer": "ipython3",
   "version": "3.6.0"
  }
 },
 "nbformat": 4,
 "nbformat_minor": 2
}
